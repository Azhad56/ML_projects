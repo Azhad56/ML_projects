{
 "cells": [
  {
   "cell_type": "code",
   "execution_count": 40,
   "metadata": {},
   "outputs": [],
   "source": [
    "from _2Plot_AQI import avg_data_2013,avg_data_2014,avg_data_2015,avg_data_2016,avg_data_2017,avg_data_2018"
   ]
  },
  {
   "cell_type": "code",
   "execution_count": 41,
   "metadata": {
    "colab": {
     "base_uri": "https://localhost:8080/",
     "height": 34
    },
    "colab_type": "code",
    "executionInfo": {
     "elapsed": 3668,
     "status": "ok",
     "timestamp": 1595253251362,
     "user": {
      "displayName": "azhad ghufran",
      "photoUrl": "https://lh3.googleusercontent.com/a-/AOh14GhfUO8aadfylbWuoaXfKcE0wIIBfG8Q12X8acJ1dA=s64",
      "userId": "14218427469422133004"
     },
     "user_tz": -330
    },
    "id": "ItJ42vuPZQHa",
    "outputId": "0260597e-ed17-463b-cf5d-fbbf54c781df"
   },
   "outputs": [],
   "source": [
    "# from google.colab import drive\n",
    "# drive.mount('/content/drive/')"
   ]
  },
  {
   "cell_type": "code",
   "execution_count": 42,
   "metadata": {
    "colab": {},
    "colab_type": "code",
    "executionInfo": {
     "elapsed": 3641,
     "status": "ok",
     "timestamp": 1595253251366,
     "user": {
      "displayName": "azhad ghufran",
      "photoUrl": "https://lh3.googleusercontent.com/a-/AOh14GhfUO8aadfylbWuoaXfKcE0wIIBfG8Q12X8acJ1dA=s64",
      "userId": "14218427469422133004"
     },
     "user_tz": -330
    },
    "id": "0ukak7ZKsrdh"
   },
   "outputs": [],
   "source": [
    "import os\n",
    "from bs4 import BeautifulSoup\n",
    "import pandas as pd\n",
    "import csv\n",
    "import sys"
   ]
  },
  {
   "cell_type": "code",
   "execution_count": 43,
   "metadata": {
    "colab": {},
    "colab_type": "code",
    "executionInfo": {
     "elapsed": 1789,
     "status": "ok",
     "timestamp": 1595253253037,
     "user": {
      "displayName": "azhad ghufran",
      "photoUrl": "https://lh3.googleusercontent.com/a-/AOh14GhfUO8aadfylbWuoaXfKcE0wIIBfG8Q12X8acJ1dA=s64",
      "userId": "14218427469422133004"
     },
     "user_tz": -330
    },
    "id": "MWvUBso7dS26"
   },
   "outputs": [],
   "source": [
    "# data_path = \"/content/drive/My Drive/Colab Notebooks/Ml_projects/1.AQI/Data/Html_Data\"\n",
    "# project_path =  \"/content/drive/My Drive/Colab Notebooks/Ml_projects/1.AQI/\""
   ]
  },
  {
   "cell_type": "code",
   "execution_count": 44,
   "metadata": {},
   "outputs": [],
   "source": [
    "data_path = \"/home/azhad56/Desktop/Ml_projects/1.AQI/Data/Html_Data\"\n",
    "project_path =  \"/home/azhad56/Desktop/Ml_projects/1.AQI/\""
   ]
  },
  {
   "cell_type": "code",
   "execution_count": 45,
   "metadata": {
    "colab": {},
    "colab_type": "code",
    "executionInfo": {
     "elapsed": 1510,
     "status": "ok",
     "timestamp": 1595255955839,
     "user": {
      "displayName": "azhad ghufran",
      "photoUrl": "https://lh3.googleusercontent.com/a-/AOh14GhfUO8aadfylbWuoaXfKcE0wIIBfG8Q12X8acJ1dA=s64",
      "userId": "14218427469422133004"
     },
     "user_tz": -330
    },
    "id": "1NrYTh8EUt5A"
   },
   "outputs": [],
   "source": [
    "def met_data(month,year):\n",
    "    file = open(\"{}/{}/{}.html\".format(data_path,year,month),'rb')\n",
    "    plain_text = file.read()\n",
    "    soup = BeautifulSoup(plain_text,'lxml')\n",
    "    tempd  = []\n",
    "    finald = []\n",
    "    for table in soup.find_all('table',{'class':'medias mensuales numspan'}):\n",
    "        for tbody in table:\n",
    "            for tr in tbody:\n",
    "                text = tr.get_text()\n",
    "                tempd.append(text)\n",
    "    no_of_rows = len(tempd)/15\n",
    "    for times in range(round(no_of_rows)):\n",
    "        new_tempd = []\n",
    "        for i in range(15):\n",
    "            new_tempd.append(tempd[0])\n",
    "            tempd.pop(0)\n",
    "        finald.append(new_tempd)\n",
    "\n",
    "    length = len(finald)\n",
    "    finald.pop(length-1)\n",
    "    finald.pop(0)\n",
    "    for a in range(len(finald)):\n",
    "        finald[a].pop(6)\n",
    "        finald[a].pop(13)\n",
    "        finald[a].pop(12)\n",
    "        finald[a].pop(11)\n",
    "        finald[a].pop(10)\n",
    "        finald[a].pop(9)\n",
    "        finald[a].pop(0)\n",
    "        finald[a].pop(3)\n",
    "    return finald"
   ]
  },
  {
   "cell_type": "code",
   "execution_count": 46,
   "metadata": {},
   "outputs": [],
   "source": [
    "def data_combine(year,cs):\n",
    "    for a in pd.read_csv('Data/Real_Data/real_' + str(year) + '.csv', chunksize=cs):\n",
    "        df = pd.DataFrame(data=a)\n",
    "        print(df)\n",
    "        mylist = df.values.tolist()\n",
    "    return mylist"
   ]
  },
  {
   "cell_type": "code",
   "execution_count": 47,
   "metadata": {
    "colab": {
     "base_uri": "https://localhost:8080/",
     "height": 1000
    },
    "colab_type": "code",
    "executionInfo": {
     "elapsed": 795,
     "status": "ok",
     "timestamp": 1595255955842,
     "user": {
      "displayName": "azhad ghufran",
      "photoUrl": "https://lh3.googleusercontent.com/a-/AOh14GhfUO8aadfylbWuoaXfKcE0wIIBfG8Q12X8acJ1dA=s64",
      "userId": "14218427469422133004"
     },
     "user_tz": -330
    },
    "id": "JTvLZ7QmoTwX",
    "outputId": "082f50f5-9d4e-4f5b-a76c-1736bed834bc"
   },
   "outputs": [
    {
     "name": "stdout",
     "output_type": "stream",
     "text": [
      "        T    TM    Tm   H   VV    V   VM       PM2.5\n",
      "0    23.4  30.3  19.0  59  6.3  4.3  5.4  284.795833\n",
      "1    22.4  30.3  16.9  57  6.9  3.3  7.6  219.720833\n",
      "2    24.0  31.8  16.9  51  6.9  2.8  5.4  182.187500\n",
      "3    22.8  30.2  17.6  55  7.7  3.7  7.6  154.037500\n",
      "4    23.1  30.6  17.4  46  6.9  3.3  5.4  223.208333\n",
      "..    ...   ...   ...  ..  ...  ...  ...         ...\n",
      "181  20.6  28.9  14.9  61  6.9  3.1  3.5  288.416667\n",
      "182  20.8  27.3  15.6  70  6.0  3.5  5.4  166.916667\n",
      "183  19.9  27.3  14.9  68  6.3  3.3  5.4  169.000000\n",
      "184  20.6  27.4  16.0  65  6.3  3.9  7.6  186.041667\n",
      "185  20.1  27.5  14.9  67  6.9  4.3  5.4         NaN\n",
      "\n",
      "[186 rows x 8 columns]\n",
      "        T    TM    Tm   H   VV    V    VM       PM2.5\n",
      "0    20.3  26.4  16.0  70  6.3  3.1   3.5  255.875000\n",
      "1    20.1  26.4  16.6  70  5.5  2.8   3.5  217.083333\n",
      "2    21.2  28.4  15.0  67  6.9  2.4   5.4  229.166667\n",
      "3    21.4  30.8  15.0  53  6.9  2.8   3.5  298.458333\n",
      "4    20.7  29.3  15.5  65  6.9  5.9  13.0  264.916667\n",
      "..    ...   ...   ...  ..  ...  ...   ...         ...\n",
      "179  21.4  28.0  17.6  71  6.3  1.9   5.4  188.041667\n",
      "180  21.1  28.3  17.1  74  7.7  0.9   3.5  310.250000\n",
      "181  20.0  28.4  15.8  65  6.3  1.9   3.5  204.375000\n",
      "182  20.1  27.3  14.2  56  9.2  1.3   3.5  223.250000\n",
      "183  20.8  27.4  13.9  58  7.7  2.0   5.4  248.958333\n",
      "\n",
      "[184 rows x 8 columns]\n",
      "        T    TM    Tm   H   VV    V   VM       PM2.5\n",
      "0    22.3  29.5  19.2  77  6.3  0.9  3.5  172.750000\n",
      "1    22.2  29.2  17.6  71  5.5  1.9  7.6  146.791667\n",
      "2    22.1  29.2  18.7  76  6.0  1.3  3.5  113.875000\n",
      "3    21.9  28.6  17.4  60  6.9  0.4  3.5  227.000000\n",
      "4    22.1  28.6  17.6  71  6.3  0.6  3.5  231.250000\n",
      "..    ...   ...   ...  ..  ...  ...  ...         ...\n",
      "177  22.2  28.4  18.8  73  6.9  1.9  5.4  264.583333\n",
      "178  22.2  28.8  18.3  65  6.9  2.4  5.4  253.291667\n",
      "179  21.8  29.3  16.3  65  6.3  1.5  3.5  181.208333\n",
      "180  21.8  28.2  18.2  67  6.0  2.4  5.4  210.875000\n",
      "181  21.8  27.7  17.9  72  5.3  2.8  5.4  255.333333\n",
      "\n",
      "[182 rows x 8 columns]\n",
      "        T    TM    Tm   H   VV    V   VM       PM2.5\n",
      "0    20.1  28.4  15.7  54  6.0  3.0  5.4  284.795833\n",
      "1    20.8  28.3  12.9  45  6.3  1.1  5.4  219.720833\n",
      "2    21.4  29.0  13.7  45  6.3  0.4  3.5  182.187500\n",
      "3    21.0  28.7  17.0  65  6.3  3.1  5.4  154.037500\n",
      "4    20.4  27.6  16.2  61  5.5  1.3  5.4  223.208333\n",
      "..    ...   ...   ...  ..  ...  ...  ...         ...\n",
      "180  21.8  29.4  15.6  67  6.9  3.5  5.4  288.416667\n",
      "181  22.6  29.0  17.7  63  5.8  1.3  3.5  256.833333\n",
      "182  20.6  30.5  14.7  62  6.0  2.2  3.5  169.000000\n",
      "183  21.8  29.0  14.8  46  5.8  1.5  3.5  186.041667\n",
      "184  21.5  30.4  14.9  42  6.0  3.0  5.4  185.583333\n",
      "\n",
      "[185 rows x 8 columns]\n",
      "        T    TM    Tm   H   VV    V   VM       PM2.5\n",
      "0    21.0  27.6  14.6  61  6.0  2.2  3.5  284.795833\n",
      "1    21.6  27.7  17.0  59  6.8  2.0  3.5  219.720833\n",
      "2    22.3  29.0  16.1  48  6.9  2.8  3.5  182.187500\n",
      "3    20.9  29.0  16.0  66  5.5  2.2  3.5  154.037500\n",
      "4    20.9  27.8  16.0  62  6.3  3.0  5.4  223.208333\n",
      "..    ...   ...   ...  ..  ...  ...  ...         ...\n",
      "180  22.1  28.0  17.2  58  6.3  3.1  5.4  284.166667\n",
      "181  22.0  28.8  16.0  56  6.3  4.3  7.6  288.416667\n",
      "182  20.4  28.5  16.6  72  6.0  0.9  3.5  166.916667\n",
      "183  21.6  28.0  16.2  57  6.3  4.8  7.6  169.000000\n",
      "184  20.6  29.2  15.5  57  5.8  4.6  5.4  186.041667\n",
      "\n",
      "[185 rows x 8 columns]\n",
      "        T    TM    Tm   H   VV    V    VM       PM2.5\n",
      "0    22.2  28.4  16.6  53  7.7  0.9   5.4  255.875000\n",
      "1    22.2  29.0  18.4  62  6.0  3.9   5.4  229.166667\n",
      "2    20.4  27.2  15.2  52  6.3  4.1   7.6  298.458333\n",
      "3    20.1  27.2  14.8  50  6.9  6.5   7.6  264.916667\n",
      "4    21.2  26.6  15.5  59  6.3  6.7   9.4  404.500000\n",
      "..    ...   ...   ...  ..  ...  ...   ...         ...\n",
      "178  22.7  28.4  18.1  65  6.3  3.9   5.4  310.250000\n",
      "179  23.4  29.1  18.4  62  6.0  5.7   9.4  204.375000\n",
      "180  23.8  30.2  17.7  56  5.5  6.1   9.4  223.250000\n",
      "181  24.0  31.4  19.0  63  6.3  5.4   7.6  248.958333\n",
      "182  20.9  25.8  16.6  51  6.6  3.9  11.1         NaN\n",
      "\n",
      "[183 rows x 8 columns]\n"
     ]
    }
   ],
   "source": [
    "if __name__ =='__main__':\n",
    "    if not os.path.exists('Data/Real_Data'):\n",
    "        os.mkdir('Data/Real_Data')\n",
    "    for year in range(2013,2019):\n",
    "        finald = []\n",
    "        with open('Data/Real_Data/real_' + str(year)+'.csv','w') as csvwriter:\n",
    "            wr = csv.writer(csvwriter,dialect='excel')\n",
    "            wr.writerow(\n",
    "                ['T', 'TM', 'Tm', 'H', 'VV', 'V', 'VM', 'PM2.5'])\n",
    "        for month in range(1,13):\n",
    "            temp = met_data(month,year)\n",
    "            finald = finald + temp\n",
    "        pm = getattr(sys.modules[__name__], 'avg_data_{}'.format(year))()\n",
    "        if len(pm)==364:\n",
    "            pm.insert(364,'-')\n",
    "        for i in range(len(finald)-1):\n",
    "            finald[i].insert(7,pm[i])\n",
    "        with open('Data/Real_Data/real_' + str(year)+'.csv','a') as csvfile:\n",
    "            wr  = csv.writer(csvfile,dialect='excel')\n",
    "            for row in finald:\n",
    "                flag = 0\n",
    "                for elem in row:\n",
    "                    if elem == \"\" or elem==\"-\":\n",
    "                        flag = 1\n",
    "                if flag !=1:\n",
    "                    wr.writerow(row)\n",
    "    data_2013 = data_combine(2013, 600)\n",
    "    data_2014 = data_combine(2014, 600)\n",
    "    data_2015 = data_combine(2015, 600)\n",
    "    data_2016 = data_combine(2016, 600)\n",
    "    data_2017 = data_combine(2017, 600)\n",
    "    data_2018 = data_combine(2018, 600)\n",
    "     \n",
    "    total=data_2013+data_2014+data_2015+data_2016+ data_2017 + data_2018\n",
    "    with open('Data/Real_Data/Real_Combine.csv', 'w') as csvfile:\n",
    "        wr = csv.writer(csvfile, dialect='excel')\n",
    "        wr.writerow(\n",
    "            ['T', 'TM', 'Tm', 'H', 'VV', 'V', 'VM', 'PM2.5'])\n",
    "        wr.writerows(total)\n",
    "df=pd.read_csv('Data/Real_Data/Real_Combine.csv')"
   ]
  },
  {
   "cell_type": "code",
   "execution_count": null,
   "metadata": {},
   "outputs": [],
   "source": []
  },
  {
   "cell_type": "code",
   "execution_count": null,
   "metadata": {},
   "outputs": [],
   "source": []
  }
 ],
 "metadata": {
  "colab": {
   "authorship_tag": "ABX9TyN8DbyFSV303Xf1G1pOJmNy",
   "collapsed_sections": [],
   "name": "3parse_combine.ipynb",
   "provenance": []
  },
  "kernelspec": {
   "display_name": "Python 3",
   "language": "python",
   "name": "python3"
  },
  "language_info": {
   "codemirror_mode": {
    "name": "ipython",
    "version": 3
   },
   "file_extension": ".py",
   "mimetype": "text/x-python",
   "name": "python",
   "nbconvert_exporter": "python",
   "pygments_lexer": "ipython3",
   "version": "3.7.6"
  }
 },
 "nbformat": 4,
 "nbformat_minor": 1
}
