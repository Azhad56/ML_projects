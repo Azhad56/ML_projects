{
 "cells": [
  {
   "cell_type": "code",
   "execution_count": 1,
   "metadata": {},
   "outputs": [],
   "source": [
    "import pandas as pd\n",
    "import numpy as np\n",
    "import seaborn as sns\n",
    "import matplotlib.pyplot as plt\n",
    "import keras\n",
    "from keras.models import Sequential\n",
    "from keras.layers import Dense\n",
    "from sklearn.model_selection import cross_val_score\n",
    "from sklearn import metrics\n",
    "import pickle\n",
    "import warnings\n",
    "warnings.filterwarnings('ignore')"
   ]
  },
  {
   "cell_type": "code",
   "execution_count": 2,
   "metadata": {},
   "outputs": [],
   "source": [
    "X_train = pd.read_csv('Data/Train_Test/X_train.csv').to_numpy()\n",
    "y_train = pd.read_csv('Data/Train_Test/y_train.csv').to_numpy()\n",
    "X_test = pd.read_csv('Data/Train_Test/X_test.csv').to_numpy()\n",
    "y_test = pd.read_csv('Data/Train_Test/y_test.csv').to_numpy()"
   ]
  },
  {
   "cell_type": "code",
   "execution_count": 3,
   "metadata": {},
   "outputs": [],
   "source": [
    "model = Sequential()\n",
    "\n",
    "model.add(Dense(128,kernel_initializer='normal',input_dim = X_train.shape[1],activation = 'relu'))\n",
    "model.add(Dense(256,kernel_initializer='normal',activation = 'relu'))\n",
    "model.add(Dense(256,kernel_initializer='normal',activation = 'relu'))\n",
    "model.add(Dense(256,kernel_initializer='normal',activation = 'relu'))\n",
    "model.add(Dense(1,kernel_initializer='normal',activation = 'linear'))\n"
   ]
  },
  {
   "cell_type": "code",
   "execution_count": 4,
   "metadata": {},
   "outputs": [
    {
     "name": "stdout",
     "output_type": "stream",
     "text": [
      "Model: \"sequential\"\n",
      "_________________________________________________________________\n",
      "Layer (type)                 Output Shape              Param #   \n",
      "=================================================================\n",
      "dense (Dense)                (None, 128)               896       \n",
      "_________________________________________________________________\n",
      "dense_1 (Dense)              (None, 256)               33024     \n",
      "_________________________________________________________________\n",
      "dense_2 (Dense)              (None, 256)               65792     \n",
      "_________________________________________________________________\n",
      "dense_3 (Dense)              (None, 256)               65792     \n",
      "_________________________________________________________________\n",
      "dense_4 (Dense)              (None, 1)                 257       \n",
      "=================================================================\n",
      "Total params: 165,761\n",
      "Trainable params: 165,761\n",
      "Non-trainable params: 0\n",
      "_________________________________________________________________\n"
     ]
    }
   ],
   "source": [
    "model.summary()"
   ]
  },
  {
   "cell_type": "code",
   "execution_count": 5,
   "metadata": {},
   "outputs": [],
   "source": [
    "model.compile(optimizer='adam',loss = 'mean_absolute_error',metrics = ['mean_absolute_error'])"
   ]
  },
  {
   "cell_type": "code",
   "execution_count": 6,
   "metadata": {},
   "outputs": [
    {
     "name": "stdout",
     "output_type": "stream",
     "text": [
      "Epoch 1/100\n",
      "33/33 [==============================] - 1s 22ms/step - loss: 79.3578 - mean_absolute_error: 79.3578 - val_loss: 74.6664 - val_mean_absolute_error: 74.6664\n",
      "Epoch 2/100\n",
      "33/33 [==============================] - 0s 7ms/step - loss: 69.9094 - mean_absolute_error: 69.9094 - val_loss: 67.8854 - val_mean_absolute_error: 67.8854\n",
      "Epoch 3/100\n",
      "33/33 [==============================] - 0s 8ms/step - loss: 64.7369 - mean_absolute_error: 64.7369 - val_loss: 64.4367 - val_mean_absolute_error: 64.4367\n",
      "Epoch 4/100\n",
      "33/33 [==============================] - 0s 8ms/step - loss: 62.3151 - mean_absolute_error: 62.3151 - val_loss: 63.6236 - val_mean_absolute_error: 63.6236\n",
      "Epoch 5/100\n",
      "33/33 [==============================] - 0s 8ms/step - loss: 61.6372 - mean_absolute_error: 61.6372 - val_loss: 66.1649 - val_mean_absolute_error: 66.1649\n",
      "Epoch 6/100\n",
      "33/33 [==============================] - 0s 7ms/step - loss: 61.5743 - mean_absolute_error: 61.5743 - val_loss: 63.1659 - val_mean_absolute_error: 63.1659\n",
      "Epoch 7/100\n",
      "33/33 [==============================] - 0s 7ms/step - loss: 60.9680 - mean_absolute_error: 60.9680 - val_loss: 62.5932 - val_mean_absolute_error: 62.5932\n",
      "Epoch 8/100\n",
      "33/33 [==============================] - 0s 7ms/step - loss: 61.9943 - mean_absolute_error: 61.9943 - val_loss: 66.7632 - val_mean_absolute_error: 66.7632\n",
      "Epoch 9/100\n",
      "33/33 [==============================] - 0s 8ms/step - loss: 59.9643 - mean_absolute_error: 59.9643 - val_loss: 62.0390 - val_mean_absolute_error: 62.0390\n",
      "Epoch 10/100\n",
      "33/33 [==============================] - 0s 7ms/step - loss: 60.6731 - mean_absolute_error: 60.6731 - val_loss: 62.0136 - val_mean_absolute_error: 62.0136\n",
      "Epoch 11/100\n",
      "33/33 [==============================] - 0s 8ms/step - loss: 59.0996 - mean_absolute_error: 59.0996 - val_loss: 61.7565 - val_mean_absolute_error: 61.7565\n",
      "Epoch 12/100\n",
      "33/33 [==============================] - 0s 7ms/step - loss: 59.2859 - mean_absolute_error: 59.2859 - val_loss: 61.4857 - val_mean_absolute_error: 61.4857\n",
      "Epoch 13/100\n",
      "33/33 [==============================] - 0s 7ms/step - loss: 58.5559 - mean_absolute_error: 58.5559 - val_loss: 59.9674 - val_mean_absolute_error: 59.9674\n",
      "Epoch 14/100\n",
      "33/33 [==============================] - 0s 7ms/step - loss: 58.5277 - mean_absolute_error: 58.5277 - val_loss: 64.6726 - val_mean_absolute_error: 64.6726\n",
      "Epoch 15/100\n",
      "33/33 [==============================] - 0s 7ms/step - loss: 59.1980 - mean_absolute_error: 59.1980 - val_loss: 59.2593 - val_mean_absolute_error: 59.2593\n",
      "Epoch 16/100\n",
      "33/33 [==============================] - 0s 7ms/step - loss: 57.4504 - mean_absolute_error: 57.4504 - val_loss: 58.1600 - val_mean_absolute_error: 58.1600\n",
      "Epoch 17/100\n",
      "33/33 [==============================] - 0s 7ms/step - loss: 57.0202 - mean_absolute_error: 57.0202 - val_loss: 58.0261 - val_mean_absolute_error: 58.0261\n",
      "Epoch 18/100\n",
      "33/33 [==============================] - 0s 6ms/step - loss: 56.6577 - mean_absolute_error: 56.6577 - val_loss: 58.5836 - val_mean_absolute_error: 58.5836\n",
      "Epoch 19/100\n",
      "33/33 [==============================] - 0s 8ms/step - loss: 56.1559 - mean_absolute_error: 56.1559 - val_loss: 58.0738 - val_mean_absolute_error: 58.0738\n",
      "Epoch 20/100\n",
      "33/33 [==============================] - 0s 7ms/step - loss: 54.8029 - mean_absolute_error: 54.8029 - val_loss: 63.1481 - val_mean_absolute_error: 63.1481\n",
      "Epoch 21/100\n",
      "33/33 [==============================] - 0s 7ms/step - loss: 56.6694 - mean_absolute_error: 56.6694 - val_loss: 56.6768 - val_mean_absolute_error: 56.6768\n",
      "Epoch 22/100\n",
      "33/33 [==============================] - 0s 7ms/step - loss: 53.8955 - mean_absolute_error: 53.8955 - val_loss: 56.2096 - val_mean_absolute_error: 56.2096\n",
      "Epoch 23/100\n",
      "33/33 [==============================] - 0s 7ms/step - loss: 53.9743 - mean_absolute_error: 53.9743 - val_loss: 55.2275 - val_mean_absolute_error: 55.2275\n",
      "Epoch 24/100\n",
      "33/33 [==============================] - 0s 7ms/step - loss: 53.7189 - mean_absolute_error: 53.7189 - val_loss: 56.4015 - val_mean_absolute_error: 56.4015\n",
      "Epoch 25/100\n",
      "33/33 [==============================] - 0s 7ms/step - loss: 53.6654 - mean_absolute_error: 53.6654 - val_loss: 54.7423 - val_mean_absolute_error: 54.7423\n",
      "Epoch 26/100\n",
      "33/33 [==============================] - 0s 8ms/step - loss: 51.9529 - mean_absolute_error: 51.9529 - val_loss: 58.4520 - val_mean_absolute_error: 58.4520\n",
      "Epoch 27/100\n",
      "33/33 [==============================] - 0s 8ms/step - loss: 54.7257 - mean_absolute_error: 54.7257 - val_loss: 55.4485 - val_mean_absolute_error: 55.4485\n",
      "Epoch 28/100\n",
      "33/33 [==============================] - 0s 7ms/step - loss: 54.0334 - mean_absolute_error: 54.0334 - val_loss: 55.9575 - val_mean_absolute_error: 55.9575\n",
      "Epoch 29/100\n",
      "33/33 [==============================] - 0s 7ms/step - loss: 52.1236 - mean_absolute_error: 52.1236 - val_loss: 58.5310 - val_mean_absolute_error: 58.5310\n",
      "Epoch 30/100\n",
      "33/33 [==============================] - 0s 7ms/step - loss: 54.0455 - mean_absolute_error: 54.0455 - val_loss: 61.6877 - val_mean_absolute_error: 61.6877\n",
      "Epoch 31/100\n",
      "33/33 [==============================] - 0s 7ms/step - loss: 53.0912 - mean_absolute_error: 53.0912 - val_loss: 58.0110 - val_mean_absolute_error: 58.0110\n",
      "Epoch 32/100\n",
      "33/33 [==============================] - 0s 7ms/step - loss: 53.0658 - mean_absolute_error: 53.0658 - val_loss: 54.7614 - val_mean_absolute_error: 54.7614\n",
      "Epoch 33/100\n",
      "33/33 [==============================] - 0s 7ms/step - loss: 54.0995 - mean_absolute_error: 54.0995 - val_loss: 63.1293 - val_mean_absolute_error: 63.1293\n",
      "Epoch 34/100\n",
      "33/33 [==============================] - 0s 7ms/step - loss: 56.6088 - mean_absolute_error: 56.6088 - val_loss: 60.7339 - val_mean_absolute_error: 60.7339\n",
      "Epoch 35/100\n",
      "33/33 [==============================] - 0s 8ms/step - loss: 54.3223 - mean_absolute_error: 54.3223 - val_loss: 54.3336 - val_mean_absolute_error: 54.3336\n",
      "Epoch 36/100\n",
      "33/33 [==============================] - 0s 8ms/step - loss: 51.4060 - mean_absolute_error: 51.4060 - val_loss: 54.9083 - val_mean_absolute_error: 54.9083\n",
      "Epoch 37/100\n",
      "33/33 [==============================] - 0s 6ms/step - loss: 56.2548 - mean_absolute_error: 56.2548 - val_loss: 56.0550 - val_mean_absolute_error: 56.0550\n",
      "Epoch 38/100\n",
      "33/33 [==============================] - 0s 5ms/step - loss: 51.1665 - mean_absolute_error: 51.1665 - val_loss: 54.8014 - val_mean_absolute_error: 54.8014\n",
      "Epoch 39/100\n",
      "33/33 [==============================] - 0s 7ms/step - loss: 52.1217 - mean_absolute_error: 52.1217 - val_loss: 57.7726 - val_mean_absolute_error: 57.7726\n",
      "Epoch 40/100\n",
      "33/33 [==============================] - 0s 5ms/step - loss: 51.7780 - mean_absolute_error: 51.7780 - val_loss: 53.5468 - val_mean_absolute_error: 53.5468\n",
      "Epoch 41/100\n",
      "33/33 [==============================] - 0s 9ms/step - loss: 51.0186 - mean_absolute_error: 51.0186 - val_loss: 53.4931 - val_mean_absolute_error: 53.4931\n",
      "Epoch 42/100\n",
      "33/33 [==============================] - 0s 7ms/step - loss: 51.3334 - mean_absolute_error: 51.3334 - val_loss: 59.6318 - val_mean_absolute_error: 59.6318\n",
      "Epoch 43/100\n",
      "33/33 [==============================] - 0s 7ms/step - loss: 52.7796 - mean_absolute_error: 52.7796 - val_loss: 53.6623 - val_mean_absolute_error: 53.6623\n",
      "Epoch 44/100\n",
      "33/33 [==============================] - 0s 7ms/step - loss: 50.6028 - mean_absolute_error: 50.6028 - val_loss: 54.2758 - val_mean_absolute_error: 54.2758\n",
      "Epoch 45/100\n",
      "33/33 [==============================] - 0s 8ms/step - loss: 50.7638 - mean_absolute_error: 50.7638 - val_loss: 54.3385 - val_mean_absolute_error: 54.3385\n",
      "Epoch 46/100\n",
      "33/33 [==============================] - 0s 8ms/step - loss: 51.3684 - mean_absolute_error: 51.3684 - val_loss: 53.9302 - val_mean_absolute_error: 53.9302\n",
      "Epoch 47/100\n",
      "33/33 [==============================] - 0s 7ms/step - loss: 50.9051 - mean_absolute_error: 50.9051 - val_loss: 55.3136 - val_mean_absolute_error: 55.3136\n",
      "Epoch 48/100\n",
      "33/33 [==============================] - 0s 7ms/step - loss: 50.2718 - mean_absolute_error: 50.2718 - val_loss: 53.3771 - val_mean_absolute_error: 53.3771\n",
      "Epoch 49/100\n",
      "33/33 [==============================] - 0s 8ms/step - loss: 50.3395 - mean_absolute_error: 50.3395 - val_loss: 53.4335 - val_mean_absolute_error: 53.4335\n"
     ]
    },
    {
     "name": "stdout",
     "output_type": "stream",
     "text": [
      "Epoch 50/100\n",
      "33/33 [==============================] - 0s 6ms/step - loss: 50.5430 - mean_absolute_error: 50.5430 - val_loss: 53.0271 - val_mean_absolute_error: 53.0271\n",
      "Epoch 51/100\n",
      "33/33 [==============================] - 0s 6ms/step - loss: 50.4337 - mean_absolute_error: 50.4337 - val_loss: 54.1550 - val_mean_absolute_error: 54.1550\n",
      "Epoch 52/100\n",
      "33/33 [==============================] - 0s 7ms/step - loss: 52.3487 - mean_absolute_error: 52.3487 - val_loss: 56.0768 - val_mean_absolute_error: 56.0768\n",
      "Epoch 53/100\n",
      "33/33 [==============================] - 0s 7ms/step - loss: 53.7583 - mean_absolute_error: 53.7583 - val_loss: 56.4787 - val_mean_absolute_error: 56.4787\n",
      "Epoch 54/100\n",
      "33/33 [==============================] - 0s 7ms/step - loss: 51.6050 - mean_absolute_error: 51.6050 - val_loss: 55.5191 - val_mean_absolute_error: 55.5191\n",
      "Epoch 55/100\n",
      "33/33 [==============================] - 0s 7ms/step - loss: 51.0758 - mean_absolute_error: 51.0758 - val_loss: 54.1718 - val_mean_absolute_error: 54.1718\n",
      "Epoch 56/100\n",
      "33/33 [==============================] - 0s 6ms/step - loss: 51.5236 - mean_absolute_error: 51.5236 - val_loss: 53.3281 - val_mean_absolute_error: 53.3281\n",
      "Epoch 57/100\n",
      "33/33 [==============================] - 0s 6ms/step - loss: 49.6074 - mean_absolute_error: 49.6074 - val_loss: 56.0416 - val_mean_absolute_error: 56.0416\n",
      "Epoch 58/100\n",
      "33/33 [==============================] - 0s 6ms/step - loss: 50.3909 - mean_absolute_error: 50.3909 - val_loss: 65.4344 - val_mean_absolute_error: 65.4344\n",
      "Epoch 59/100\n",
      "33/33 [==============================] - 0s 7ms/step - loss: 51.1586 - mean_absolute_error: 51.1586 - val_loss: 57.1454 - val_mean_absolute_error: 57.1454\n",
      "Epoch 60/100\n",
      "33/33 [==============================] - 0s 6ms/step - loss: 49.4131 - mean_absolute_error: 49.4131 - val_loss: 55.0660 - val_mean_absolute_error: 55.0660\n",
      "Epoch 61/100\n",
      "33/33 [==============================] - 0s 6ms/step - loss: 51.9166 - mean_absolute_error: 51.9166 - val_loss: 59.9314 - val_mean_absolute_error: 59.9314\n",
      "Epoch 62/100\n",
      "33/33 [==============================] - 0s 6ms/step - loss: 51.0471 - mean_absolute_error: 51.0471 - val_loss: 59.2634 - val_mean_absolute_error: 59.2634\n",
      "Epoch 63/100\n",
      "33/33 [==============================] - 0s 6ms/step - loss: 52.8766 - mean_absolute_error: 52.8766 - val_loss: 56.4753 - val_mean_absolute_error: 56.4753\n",
      "Epoch 64/100\n",
      "33/33 [==============================] - 0s 6ms/step - loss: 49.7262 - mean_absolute_error: 49.7262 - val_loss: 55.0653 - val_mean_absolute_error: 55.0653\n",
      "Epoch 65/100\n",
      "33/33 [==============================] - 0s 7ms/step - loss: 51.2134 - mean_absolute_error: 51.2134 - val_loss: 62.0126 - val_mean_absolute_error: 62.0126\n",
      "Epoch 66/100\n",
      "33/33 [==============================] - 0s 7ms/step - loss: 55.6814 - mean_absolute_error: 55.6814 - val_loss: 53.5752 - val_mean_absolute_error: 53.5752\n",
      "Epoch 67/100\n",
      "33/33 [==============================] - 0s 6ms/step - loss: 50.6448 - mean_absolute_error: 50.6448 - val_loss: 53.1616 - val_mean_absolute_error: 53.1616\n",
      "Epoch 68/100\n",
      "33/33 [==============================] - 0s 6ms/step - loss: 49.1582 - mean_absolute_error: 49.1582 - val_loss: 60.2937 - val_mean_absolute_error: 60.2937\n",
      "Epoch 69/100\n",
      "33/33 [==============================] - 0s 6ms/step - loss: 51.1184 - mean_absolute_error: 51.1184 - val_loss: 55.0500 - val_mean_absolute_error: 55.0500\n",
      "Epoch 70/100\n",
      "33/33 [==============================] - 0s 6ms/step - loss: 51.1678 - mean_absolute_error: 51.1678 - val_loss: 58.8012 - val_mean_absolute_error: 58.8012\n",
      "Epoch 71/100\n",
      "33/33 [==============================] - 0s 6ms/step - loss: 49.9318 - mean_absolute_error: 49.9318 - val_loss: 54.1726 - val_mean_absolute_error: 54.1726\n",
      "Epoch 72/100\n",
      "33/33 [==============================] - 0s 7ms/step - loss: 51.6631 - mean_absolute_error: 51.6631 - val_loss: 53.9485 - val_mean_absolute_error: 53.9485\n",
      "Epoch 73/100\n",
      "33/33 [==============================] - 0s 6ms/step - loss: 50.8167 - mean_absolute_error: 50.8167 - val_loss: 57.5016 - val_mean_absolute_error: 57.5016\n",
      "Epoch 74/100\n",
      "33/33 [==============================] - 0s 6ms/step - loss: 50.9316 - mean_absolute_error: 50.9316 - val_loss: 53.1331 - val_mean_absolute_error: 53.1331\n",
      "Epoch 75/100\n",
      "33/33 [==============================] - 0s 7ms/step - loss: 50.1996 - mean_absolute_error: 50.1996 - val_loss: 54.0637 - val_mean_absolute_error: 54.0637\n",
      "Epoch 76/100\n",
      "33/33 [==============================] - 0s 7ms/step - loss: 53.3774 - mean_absolute_error: 53.3774 - val_loss: 56.9977 - val_mean_absolute_error: 56.9977\n",
      "Epoch 77/100\n",
      "33/33 [==============================] - 0s 7ms/step - loss: 51.2790 - mean_absolute_error: 51.2790 - val_loss: 54.4247 - val_mean_absolute_error: 54.4247\n",
      "Epoch 78/100\n",
      "33/33 [==============================] - 0s 6ms/step - loss: 50.6149 - mean_absolute_error: 50.6149 - val_loss: 54.3707 - val_mean_absolute_error: 54.3707\n",
      "Epoch 79/100\n",
      "33/33 [==============================] - 0s 7ms/step - loss: 48.9744 - mean_absolute_error: 48.9744 - val_loss: 55.8122 - val_mean_absolute_error: 55.8122\n",
      "Epoch 80/100\n",
      "33/33 [==============================] - 0s 7ms/step - loss: 51.5114 - mean_absolute_error: 51.5114 - val_loss: 54.4501 - val_mean_absolute_error: 54.4501\n",
      "Epoch 81/100\n",
      "33/33 [==============================] - 0s 7ms/step - loss: 49.0440 - mean_absolute_error: 49.0440 - val_loss: 53.6679 - val_mean_absolute_error: 53.6679\n",
      "Epoch 82/100\n",
      "33/33 [==============================] - 0s 7ms/step - loss: 48.9232 - mean_absolute_error: 48.9232 - val_loss: 57.2292 - val_mean_absolute_error: 57.2292\n",
      "Epoch 83/100\n",
      "33/33 [==============================] - 0s 7ms/step - loss: 52.0688 - mean_absolute_error: 52.0688 - val_loss: 53.2020 - val_mean_absolute_error: 53.2020\n",
      "Epoch 84/100\n",
      "33/33 [==============================] - 0s 7ms/step - loss: 49.2136 - mean_absolute_error: 49.2136 - val_loss: 54.2476 - val_mean_absolute_error: 54.2476\n",
      "Epoch 85/100\n",
      "33/33 [==============================] - 0s 7ms/step - loss: 49.6839 - mean_absolute_error: 49.6839 - val_loss: 56.8590 - val_mean_absolute_error: 56.8590\n",
      "Epoch 86/100\n",
      "33/33 [==============================] - 0s 7ms/step - loss: 49.4528 - mean_absolute_error: 49.4528 - val_loss: 53.2243 - val_mean_absolute_error: 53.2243\n",
      "Epoch 87/100\n",
      "33/33 [==============================] - 0s 10ms/step - loss: 49.5417 - mean_absolute_error: 49.5417 - val_loss: 53.6789 - val_mean_absolute_error: 53.6789\n",
      "Epoch 88/100\n",
      "33/33 [==============================] - 0s 7ms/step - loss: 49.5928 - mean_absolute_error: 49.5928 - val_loss: 55.4782 - val_mean_absolute_error: 55.4782\n",
      "Epoch 89/100\n",
      "33/33 [==============================] - 0s 7ms/step - loss: 48.2752 - mean_absolute_error: 48.2752 - val_loss: 56.2560 - val_mean_absolute_error: 56.2560\n",
      "Epoch 90/100\n",
      "33/33 [==============================] - 0s 7ms/step - loss: 50.2570 - mean_absolute_error: 50.2570 - val_loss: 54.7933 - val_mean_absolute_error: 54.7933\n",
      "Epoch 91/100\n",
      "33/33 [==============================] - 0s 7ms/step - loss: 48.6075 - mean_absolute_error: 48.6075 - val_loss: 54.7669 - val_mean_absolute_error: 54.7669\n",
      "Epoch 92/100\n",
      "33/33 [==============================] - 0s 7ms/step - loss: 50.1528 - mean_absolute_error: 50.1528 - val_loss: 54.9062 - val_mean_absolute_error: 54.9062\n",
      "Epoch 93/100\n",
      "33/33 [==============================] - 0s 7ms/step - loss: 51.2258 - mean_absolute_error: 51.2258 - val_loss: 57.1431 - val_mean_absolute_error: 57.1431\n",
      "Epoch 94/100\n",
      "33/33 [==============================] - 0s 7ms/step - loss: 49.1430 - mean_absolute_error: 49.1430 - val_loss: 57.7323 - val_mean_absolute_error: 57.7323\n",
      "Epoch 95/100\n",
      "33/33 [==============================] - 0s 7ms/step - loss: 50.3841 - mean_absolute_error: 50.3841 - val_loss: 58.0216 - val_mean_absolute_error: 58.0216\n",
      "Epoch 96/100\n",
      "33/33 [==============================] - 0s 6ms/step - loss: 48.9722 - mean_absolute_error: 48.9722 - val_loss: 52.9540 - val_mean_absolute_error: 52.9540\n",
      "Epoch 97/100\n",
      "33/33 [==============================] - 0s 6ms/step - loss: 49.0655 - mean_absolute_error: 49.0655 - val_loss: 53.6793 - val_mean_absolute_error: 53.6793\n",
      "Epoch 98/100\n",
      "33/33 [==============================] - 0s 6ms/step - loss: 49.0729 - mean_absolute_error: 49.0729 - val_loss: 54.0846 - val_mean_absolute_error: 54.0846\n"
     ]
    },
    {
     "name": "stdout",
     "output_type": "stream",
     "text": [
      "Epoch 99/100\n",
      "33/33 [==============================] - 0s 6ms/step - loss: 48.1142 - mean_absolute_error: 48.1142 - val_loss: 53.5166 - val_mean_absolute_error: 53.5166\n",
      "Epoch 100/100\n",
      "33/33 [==============================] - 0s 6ms/step - loss: 49.6938 - mean_absolute_error: 49.6938 - val_loss: 53.9299 - val_mean_absolute_error: 53.9299\n"
     ]
    }
   ],
   "source": [
    "hist = model.fit(X_train,y_train,epochs=100,validation_split=0.33,batch_size=16)"
   ]
  },
  {
   "cell_type": "code",
   "execution_count": 7,
   "metadata": {},
   "outputs": [],
   "source": [
    "pred = model.predict(X_test)"
   ]
  },
  {
   "cell_type": "code",
   "execution_count": 8,
   "metadata": {},
   "outputs": [
    {
     "data": {
      "text/plain": [
       "<matplotlib.axes._subplots.AxesSubplot at 0x7fb18c273c10>"
      ]
     },
     "execution_count": 8,
     "metadata": {},
     "output_type": "execute_result"
    },
    {
     "data": {
      "image/png": "[encoded data removed]",
      "text/plain": [
       "<Figure size 432x288 with 1 Axes>"
      ]
     },
     "metadata": {
      "needs_background": "light"
     },
     "output_type": "display_data"
    }
   ],
   "source": [
    "sns.distplot(y_test-pred)"
   ]
  },
  {
   "cell_type": "code",
   "execution_count": 9,
   "metadata": {},
   "outputs": [
    {
     "data": {
      "text/plain": [
       "<matplotlib.collections.PathCollection at 0x7fb10459c9d0>"
      ]
     },
     "execution_count": 9,
     "metadata": {},
     "output_type": "execute_result"
    },
    {
     "data": {
      "image/png": "[encoded data removed]",
      "text/plain": [
       "<Figure size 432x288 with 1 Axes>"
      ]
     },
     "metadata": {
      "needs_background": "light"
     },
     "output_type": "display_data"
    }
   ],
   "source": [
    "plt.scatter(y_test,pred)"
   ]
  },
  {
   "cell_type": "code",
   "execution_count": 10,
   "metadata": {},
   "outputs": [
    {
     "name": "stdout",
     "output_type": "stream",
     "text": [
      "MAE: 52.61387709802972\n",
      "MSE: 5366.203073972689\n",
      "RMSE: 73.25437238808813\n"
     ]
    }
   ],
   "source": [
    "print('MAE:', metrics.mean_absolute_error(y_test, pred))\n",
    "print('MSE:', metrics.mean_squared_error(y_test, pred))\n",
    "print('RMSE:', np.sqrt(metrics.mean_squared_error(y_test, pred)))"
   ]
  },
  {
   "cell_type": "code",
   "execution_count": 11,
   "metadata": {},
   "outputs": [
    {
     "ename": "TypeError",
     "evalue": "can't pickle _thread.RLock objects",
     "output_type": "error",
     "traceback": [
      "\u001b[0;31m---------------------------------------------------------------------------\u001b[0m",
      "\u001b[0;31mTypeError\u001b[0m                                 Traceback (most recent call last)",
      "\u001b[0;32m<ipython-input-11-f68ec7ad2361>\u001b[0m in \u001b[0;36m<module>\u001b[0;34m\u001b[0m\n\u001b[1;32m      3\u001b[0m \u001b[0;34m\u001b[0m\u001b[0m\n\u001b[1;32m      4\u001b[0m \u001b[0;31m# dump information to that file\u001b[0m\u001b[0;34m\u001b[0m\u001b[0;34m\u001b[0m\u001b[0;34m\u001b[0m\u001b[0m\n\u001b[0;32m----> 5\u001b[0;31m \u001b[0mpickle\u001b[0m\u001b[0;34m.\u001b[0m\u001b[0mdump\u001b[0m\u001b[0;34m(\u001b[0m\u001b[0mmodel\u001b[0m\u001b[0;34m,\u001b[0m \u001b[0mfile\u001b[0m\u001b[0;34m)\u001b[0m\u001b[0;34m\u001b[0m\u001b[0;34m\u001b[0m\u001b[0m\n\u001b[0m\u001b[1;32m      6\u001b[0m \u001b[0mfile\u001b[0m\u001b[0;34m.\u001b[0m\u001b[0mclose\u001b[0m\u001b[0;34m(\u001b[0m\u001b[0;34m)\u001b[0m\u001b[0;34m\u001b[0m\u001b[0;34m\u001b[0m\u001b[0m\n",
      "\u001b[0;31mTypeError\u001b[0m: can't pickle _thread.RLock objects"
     ]
    }
   ],
   "source": [
    "# open a file, where you ant to store the data\n",
    "file = open('ANN.pkl', 'wb')\n",
    "\n",
    "# dump information to that file\n",
    "pickle.dump(model, file)\n",
    "file.close()"
   ]
  },
  {
   "cell_type": "code",
   "execution_count": null,
   "metadata": {},
   "outputs": [],
   "source": []
  }
 ],
 "metadata": {
  "kernelspec": {
   "display_name": "Python 3",
   "language": "python",
   "name": "python3"
  },
  "language_info": {
   "codemirror_mode": {
    "name": "ipython",
    "version": 3
   },
   "file_extension": ".py",
   "mimetype": "text/x-python",
   "name": "python",
   "nbconvert_exporter": "python",
   "pygments_lexer": "ipython3",
   "version": "3.7.7"
  }
 },
 "nbformat": 4,
 "nbformat_minor": 4
}
