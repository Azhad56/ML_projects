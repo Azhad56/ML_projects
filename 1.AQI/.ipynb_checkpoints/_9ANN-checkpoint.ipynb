{
 "cells": [
  {
   "cell_type": "code",
   "execution_count": 2,
   "metadata": {},
   "outputs": [],
   "source": [
    "import pandas as pd\n",
    "import numpy as np\n",
    "import seaborn as sns\n",
    "import matplotlib.pyplot as plt\n",
    "import keras\n",
    "from keras.models import Sequential\n",
    "from keras.layers import Dense\n",
    "from sklearn.model_selection import cross_val_score\n",
    "from sklearn import metrics\n",
    "import pickle\n",
    "import warnings\n",
    "warnings.filterwarnings('ignore')"
   ]
  },
  {
   "cell_type": "code",
   "execution_count": 3,
   "metadata": {},
   "outputs": [],
   "source": [
    "X_train = pd.read_csv('Data/Train_Test/X_train.csv').to_numpy()\n",
    "y_train = pd.read_csv('Data/Train_Test/y_train.csv').to_numpy()\n",
    "X_test = pd.read_csv('Data/Train_Test/X_test.csv').to_numpy()\n",
    "y_test = pd.read_csv('Data/Train_Test/y_test.csv').to_numpy()"
   ]
  },
  {
   "cell_type": "code",
   "execution_count": 5,
   "metadata": {},
   "outputs": [],
   "source": [
    "model = Sequential()\n",
    "\n",
    "model.add(Dense(128,kernel_initializer='normal',input_dim = X_train.shape[1],activation = 'relu'))\n",
    "model.add(Dense(256,kernel_initializer='normal',activation = 'relu'))\n",
    "model.add(Dense(256,kernel_initializer='normal',activation = 'relu'))\n",
    "model.add(Dense(256,kernel_initializer='normal',activation = 'relu'))\n",
    "model.add(Dense(1,kernel_initializer='normal',activation = 'linear'))\n"
   ]
  },
  {
   "cell_type": "code",
   "execution_count": 6,
   "metadata": {},
   "outputs": [
    {
     "name": "stdout",
     "output_type": "stream",
     "text": [
      "Model: \"sequential_1\"\n",
      "_________________________________________________________________\n",
      "Layer (type)                 Output Shape              Param #   \n",
      "=================================================================\n",
      "dense_1 (Dense)              (None, 128)               896       \n",
      "_________________________________________________________________\n",
      "dense_2 (Dense)              (None, 256)               33024     \n",
      "_________________________________________________________________\n",
      "dense_3 (Dense)              (None, 256)               65792     \n",
      "_________________________________________________________________\n",
      "dense_4 (Dense)              (None, 256)               65792     \n",
      "_________________________________________________________________\n",
      "dense_5 (Dense)              (None, 1)                 257       \n",
      "=================================================================\n",
      "Total params: 165,761\n",
      "Trainable params: 165,761\n",
      "Non-trainable params: 0\n",
      "_________________________________________________________________\n"
     ]
    }
   ],
   "source": [
    "model.summary()"
   ]
  },
  {
   "cell_type": "code",
   "execution_count": 7,
   "metadata": {},
   "outputs": [],
   "source": [
    "model.compile(optimizer='adam',loss = 'mean_absolute_error',metrics = ['mean_absolute_error'])"
   ]
  },
  {
   "cell_type": "code",
   "execution_count": 8,
   "metadata": {},
   "outputs": [
    {
     "name": "stdout",
     "output_type": "stream",
     "text": [
      "Epoch 1/100\n",
      "33/33 [==============================] - 0s 15ms/step - loss: 79.3968 - mean_absolute_error: 79.3968 - val_loss: 68.4889 - val_mean_absolute_error: 68.4889\n",
      "Epoch 2/100\n",
      "33/33 [==============================] - 0s 6ms/step - loss: 66.8839 - mean_absolute_error: 66.8839 - val_loss: 70.2339 - val_mean_absolute_error: 70.2339\n",
      "Epoch 3/100\n",
      "33/33 [==============================] - 0s 4ms/step - loss: 67.1244 - mean_absolute_error: 67.1244 - val_loss: 63.8299 - val_mean_absolute_error: 63.8299\n",
      "Epoch 4/100\n",
      "33/33 [==============================] - 0s 6ms/step - loss: 63.7905 - mean_absolute_error: 63.7905 - val_loss: 64.2380 - val_mean_absolute_error: 64.2380\n",
      "Epoch 5/100\n",
      "33/33 [==============================] - 0s 7ms/step - loss: 61.4949 - mean_absolute_error: 61.4949 - val_loss: 63.6066 - val_mean_absolute_error: 63.6066\n",
      "Epoch 6/100\n",
      "33/33 [==============================] - 0s 7ms/step - loss: 61.5321 - mean_absolute_error: 61.5321 - val_loss: 62.9316 - val_mean_absolute_error: 62.9316\n",
      "Epoch 7/100\n",
      "33/33 [==============================] - 0s 4ms/step - loss: 60.5139 - mean_absolute_error: 60.5139 - val_loss: 62.5098 - val_mean_absolute_error: 62.5098\n",
      "Epoch 8/100\n",
      "33/33 [==============================] - 0s 4ms/step - loss: 60.2441 - mean_absolute_error: 60.2441 - val_loss: 62.9262 - val_mean_absolute_error: 62.9262\n",
      "Epoch 9/100\n",
      "33/33 [==============================] - 0s 4ms/step - loss: 60.3542 - mean_absolute_error: 60.3542 - val_loss: 61.7938 - val_mean_absolute_error: 61.7938\n",
      "Epoch 10/100\n",
      "33/33 [==============================] - 0s 4ms/step - loss: 60.1017 - mean_absolute_error: 60.1017 - val_loss: 64.7010 - val_mean_absolute_error: 64.7010\n",
      "Epoch 11/100\n",
      "33/33 [==============================] - 0s 4ms/step - loss: 60.8840 - mean_absolute_error: 60.8840 - val_loss: 61.2985 - val_mean_absolute_error: 61.2985\n",
      "Epoch 12/100\n",
      "33/33 [==============================] - 0s 5ms/step - loss: 59.2049 - mean_absolute_error: 59.2049 - val_loss: 63.2912 - val_mean_absolute_error: 63.2912\n",
      "Epoch 13/100\n",
      "33/33 [==============================] - 0s 4ms/step - loss: 59.1975 - mean_absolute_error: 59.1975 - val_loss: 60.6363 - val_mean_absolute_error: 60.6363\n",
      "Epoch 14/100\n",
      "33/33 [==============================] - 0s 4ms/step - loss: 59.0976 - mean_absolute_error: 59.0976 - val_loss: 60.3813 - val_mean_absolute_error: 60.3813\n",
      "Epoch 15/100\n",
      "33/33 [==============================] - 0s 4ms/step - loss: 58.9596 - mean_absolute_error: 58.9596 - val_loss: 60.3057 - val_mean_absolute_error: 60.3057\n",
      "Epoch 16/100\n",
      "33/33 [==============================] - 0s 4ms/step - loss: 58.6492 - mean_absolute_error: 58.6492 - val_loss: 60.0228 - val_mean_absolute_error: 60.0228\n",
      "Epoch 17/100\n",
      "33/33 [==============================] - 0s 4ms/step - loss: 57.1713 - mean_absolute_error: 57.1713 - val_loss: 60.6295 - val_mean_absolute_error: 60.6295\n",
      "Epoch 18/100\n",
      "33/33 [==============================] - 0s 4ms/step - loss: 56.7412 - mean_absolute_error: 56.7412 - val_loss: 58.0431 - val_mean_absolute_error: 58.0431\n",
      "Epoch 19/100\n",
      "33/33 [==============================] - 0s 6ms/step - loss: 55.6543 - mean_absolute_error: 55.6543 - val_loss: 60.0038 - val_mean_absolute_error: 60.0038\n",
      "Epoch 20/100\n",
      "33/33 [==============================] - 0s 7ms/step - loss: 56.3986 - mean_absolute_error: 56.3986 - val_loss: 56.5489 - val_mean_absolute_error: 56.5489\n",
      "Epoch 21/100\n",
      "33/33 [==============================] - 0s 7ms/step - loss: 57.8950 - mean_absolute_error: 57.8950 - val_loss: 56.4419 - val_mean_absolute_error: 56.4419\n",
      "Epoch 22/100\n",
      "33/33 [==============================] - 0s 7ms/step - loss: 55.2745 - mean_absolute_error: 55.2745 - val_loss: 56.1860 - val_mean_absolute_error: 56.1860\n",
      "Epoch 23/100\n",
      "33/33 [==============================] - 0s 7ms/step - loss: 54.9500 - mean_absolute_error: 54.9500 - val_loss: 61.2705 - val_mean_absolute_error: 61.2705\n",
      "Epoch 24/100\n",
      "33/33 [==============================] - 0s 6ms/step - loss: 54.8651 - mean_absolute_error: 54.8651 - val_loss: 59.5460 - val_mean_absolute_error: 59.5460\n",
      "Epoch 25/100\n",
      "33/33 [==============================] - 0s 6ms/step - loss: 56.5641 - mean_absolute_error: 56.5641 - val_loss: 55.6383 - val_mean_absolute_error: 55.6383\n",
      "Epoch 26/100\n",
      "33/33 [==============================] - 0s 4ms/step - loss: 54.0099 - mean_absolute_error: 54.0099 - val_loss: 55.0231 - val_mean_absolute_error: 55.0231\n",
      "Epoch 27/100\n",
      "33/33 [==============================] - 0s 7ms/step - loss: 53.1720 - mean_absolute_error: 53.1720 - val_loss: 55.8577 - val_mean_absolute_error: 55.8577\n",
      "Epoch 28/100\n",
      "33/33 [==============================] - 0s 6ms/step - loss: 53.0814 - mean_absolute_error: 53.0814 - val_loss: 55.1571 - val_mean_absolute_error: 55.1571\n",
      "Epoch 29/100\n",
      "33/33 [==============================] - 0s 6ms/step - loss: 54.2825 - mean_absolute_error: 54.2825 - val_loss: 55.8102 - val_mean_absolute_error: 55.8102\n",
      "Epoch 30/100\n",
      "33/33 [==============================] - 0s 7ms/step - loss: 54.7671 - mean_absolute_error: 54.7671 - val_loss: 55.1933 - val_mean_absolute_error: 55.1933\n",
      "Epoch 31/100\n",
      "33/33 [==============================] - 0s 4ms/step - loss: 52.6158 - mean_absolute_error: 52.6158 - val_loss: 55.3639 - val_mean_absolute_error: 55.3639\n",
      "Epoch 32/100\n",
      "33/33 [==============================] - 0s 4ms/step - loss: 52.7440 - mean_absolute_error: 52.7440 - val_loss: 54.9428 - val_mean_absolute_error: 54.9428\n",
      "Epoch 33/100\n",
      "33/33 [==============================] - 0s 5ms/step - loss: 52.1340 - mean_absolute_error: 52.1340 - val_loss: 53.6201 - val_mean_absolute_error: 53.6201\n",
      "Epoch 34/100\n",
      "33/33 [==============================] - 0s 5ms/step - loss: 53.0707 - mean_absolute_error: 53.0707 - val_loss: 54.1419 - val_mean_absolute_error: 54.1419\n",
      "Epoch 35/100\n",
      "33/33 [==============================] - 0s 6ms/step - loss: 52.9279 - mean_absolute_error: 52.9279 - val_loss: 63.9909 - val_mean_absolute_error: 63.9909\n",
      "Epoch 36/100\n",
      "33/33 [==============================] - 0s 5ms/step - loss: 52.9205 - mean_absolute_error: 52.9205 - val_loss: 57.5471 - val_mean_absolute_error: 57.5471\n",
      "Epoch 37/100\n",
      "33/33 [==============================] - 0s 6ms/step - loss: 53.2679 - mean_absolute_error: 53.2679 - val_loss: 59.9642 - val_mean_absolute_error: 59.9642\n",
      "Epoch 38/100\n",
      "33/33 [==============================] - 0s 7ms/step - loss: 52.8459 - mean_absolute_error: 52.8459 - val_loss: 55.2767 - val_mean_absolute_error: 55.2767\n",
      "Epoch 39/100\n",
      "33/33 [==============================] - 0s 7ms/step - loss: 52.3384 - mean_absolute_error: 52.3384 - val_loss: 54.3891 - val_mean_absolute_error: 54.3891\n",
      "Epoch 40/100\n",
      "33/33 [==============================] - 0s 6ms/step - loss: 51.8246 - mean_absolute_error: 51.8246 - val_loss: 53.9541 - val_mean_absolute_error: 53.9541\n",
      "Epoch 41/100\n",
      "33/33 [==============================] - 0s 4ms/step - loss: 51.3077 - mean_absolute_error: 51.3077 - val_loss: 55.0007 - val_mean_absolute_error: 55.0007\n",
      "Epoch 42/100\n",
      "33/33 [==============================] - 0s 4ms/step - loss: 51.8215 - mean_absolute_error: 51.8215 - val_loss: 55.3353 - val_mean_absolute_error: 55.3353\n",
      "Epoch 43/100\n",
      "33/33 [==============================] - 0s 6ms/step - loss: 52.1753 - mean_absolute_error: 52.1753 - val_loss: 54.5359 - val_mean_absolute_error: 54.5359\n",
      "Epoch 44/100\n",
      "33/33 [==============================] - 0s 6ms/step - loss: 51.5372 - mean_absolute_error: 51.5372 - val_loss: 53.9132 - val_mean_absolute_error: 53.9132\n",
      "Epoch 45/100\n",
      "33/33 [==============================] - 0s 7ms/step - loss: 51.8879 - mean_absolute_error: 51.8879 - val_loss: 53.6498 - val_mean_absolute_error: 53.6498\n",
      "Epoch 46/100\n",
      "33/33 [==============================] - 0s 6ms/step - loss: 53.0370 - mean_absolute_error: 53.0370 - val_loss: 57.8685 - val_mean_absolute_error: 57.8685\n",
      "Epoch 47/100\n",
      "33/33 [==============================] - 0s 6ms/step - loss: 52.0897 - mean_absolute_error: 52.0897 - val_loss: 55.5707 - val_mean_absolute_error: 55.5707\n",
      "Epoch 48/100\n",
      "33/33 [==============================] - 0s 6ms/step - loss: 51.0187 - mean_absolute_error: 51.0187 - val_loss: 54.7007 - val_mean_absolute_error: 54.7007\n",
      "Epoch 49/100\n",
      "33/33 [==============================] - 0s 6ms/step - loss: 51.2149 - mean_absolute_error: 51.2149 - val_loss: 53.5780 - val_mean_absolute_error: 53.5780\n"
     ]
    },
    {
     "name": "stdout",
     "output_type": "stream",
     "text": [
      "Epoch 50/100\n",
      "33/33 [==============================] - 0s 6ms/step - loss: 53.6232 - mean_absolute_error: 53.6232 - val_loss: 55.5007 - val_mean_absolute_error: 55.5007\n",
      "Epoch 51/100\n",
      "33/33 [==============================] - 0s 6ms/step - loss: 53.1530 - mean_absolute_error: 53.1530 - val_loss: 56.1184 - val_mean_absolute_error: 56.1184\n",
      "Epoch 52/100\n",
      "33/33 [==============================] - 0s 7ms/step - loss: 51.2474 - mean_absolute_error: 51.2474 - val_loss: 54.3347 - val_mean_absolute_error: 54.3347\n",
      "Epoch 53/100\n",
      "33/33 [==============================] - 0s 6ms/step - loss: 53.0193 - mean_absolute_error: 53.0193 - val_loss: 57.9953 - val_mean_absolute_error: 57.9953\n",
      "Epoch 54/100\n",
      "33/33 [==============================] - 0s 6ms/step - loss: 51.8844 - mean_absolute_error: 51.8844 - val_loss: 57.4383 - val_mean_absolute_error: 57.4383\n",
      "Epoch 55/100\n",
      "33/33 [==============================] - 0s 7ms/step - loss: 51.3572 - mean_absolute_error: 51.3572 - val_loss: 54.1510 - val_mean_absolute_error: 54.1510\n",
      "Epoch 56/100\n",
      "33/33 [==============================] - 0s 6ms/step - loss: 51.2282 - mean_absolute_error: 51.2282 - val_loss: 53.9334 - val_mean_absolute_error: 53.9334\n",
      "Epoch 57/100\n",
      "33/33 [==============================] - 0s 7ms/step - loss: 51.8981 - mean_absolute_error: 51.8981 - val_loss: 55.6979 - val_mean_absolute_error: 55.6979\n",
      "Epoch 58/100\n",
      "33/33 [==============================] - 0s 7ms/step - loss: 51.4417 - mean_absolute_error: 51.4417 - val_loss: 54.1689 - val_mean_absolute_error: 54.1689\n",
      "Epoch 59/100\n",
      "33/33 [==============================] - 0s 6ms/step - loss: 50.7235 - mean_absolute_error: 50.7235 - val_loss: 54.1362 - val_mean_absolute_error: 54.1362\n",
      "Epoch 60/100\n",
      "33/33 [==============================] - 0s 6ms/step - loss: 50.8611 - mean_absolute_error: 50.8611 - val_loss: 53.7565 - val_mean_absolute_error: 53.7565\n",
      "Epoch 61/100\n",
      "33/33 [==============================] - 0s 6ms/step - loss: 51.1691 - mean_absolute_error: 51.1691 - val_loss: 54.2302 - val_mean_absolute_error: 54.2302\n",
      "Epoch 62/100\n",
      "33/33 [==============================] - 0s 6ms/step - loss: 53.0109 - mean_absolute_error: 53.0109 - val_loss: 60.7234 - val_mean_absolute_error: 60.7234\n",
      "Epoch 63/100\n",
      "33/33 [==============================] - 0s 6ms/step - loss: 50.7825 - mean_absolute_error: 50.7825 - val_loss: 56.7599 - val_mean_absolute_error: 56.7599\n",
      "Epoch 64/100\n",
      "33/33 [==============================] - 0s 6ms/step - loss: 50.9700 - mean_absolute_error: 50.9700 - val_loss: 57.5004 - val_mean_absolute_error: 57.5004\n",
      "Epoch 65/100\n",
      "33/33 [==============================] - 0s 6ms/step - loss: 51.4995 - mean_absolute_error: 51.4995 - val_loss: 53.9813 - val_mean_absolute_error: 53.9813\n",
      "Epoch 66/100\n",
      "33/33 [==============================] - 0s 7ms/step - loss: 49.5597 - mean_absolute_error: 49.5597 - val_loss: 55.2541 - val_mean_absolute_error: 55.2541\n",
      "Epoch 67/100\n",
      "33/33 [==============================] - 0s 7ms/step - loss: 50.0795 - mean_absolute_error: 50.0795 - val_loss: 56.1920 - val_mean_absolute_error: 56.1920\n",
      "Epoch 68/100\n",
      "33/33 [==============================] - 0s 5ms/step - loss: 49.2431 - mean_absolute_error: 49.2431 - val_loss: 55.9402 - val_mean_absolute_error: 55.9402\n",
      "Epoch 69/100\n",
      "33/33 [==============================] - 0s 4ms/step - loss: 50.5845 - mean_absolute_error: 50.5845 - val_loss: 58.0139 - val_mean_absolute_error: 58.0139\n",
      "Epoch 70/100\n",
      "33/33 [==============================] - 0s 4ms/step - loss: 51.2925 - mean_absolute_error: 51.2925 - val_loss: 55.9117 - val_mean_absolute_error: 55.9117\n",
      "Epoch 71/100\n",
      "33/33 [==============================] - 0s 4ms/step - loss: 50.5270 - mean_absolute_error: 50.5270 - val_loss: 53.5060 - val_mean_absolute_error: 53.5060\n",
      "Epoch 72/100\n",
      "33/33 [==============================] - 0s 4ms/step - loss: 51.0206 - mean_absolute_error: 51.0206 - val_loss: 53.4846 - val_mean_absolute_error: 53.4846\n",
      "Epoch 73/100\n",
      "33/33 [==============================] - 0s 4ms/step - loss: 50.2958 - mean_absolute_error: 50.2958 - val_loss: 55.9291 - val_mean_absolute_error: 55.9291\n",
      "Epoch 74/100\n",
      "33/33 [==============================] - 0s 4ms/step - loss: 51.0697 - mean_absolute_error: 51.0697 - val_loss: 55.0714 - val_mean_absolute_error: 55.0714\n",
      "Epoch 75/100\n",
      "33/33 [==============================] - 0s 4ms/step - loss: 50.1728 - mean_absolute_error: 50.1728 - val_loss: 55.4381 - val_mean_absolute_error: 55.4381\n",
      "Epoch 76/100\n",
      "33/33 [==============================] - 0s 4ms/step - loss: 51.2239 - mean_absolute_error: 51.2239 - val_loss: 53.0526 - val_mean_absolute_error: 53.0526\n",
      "Epoch 77/100\n",
      "33/33 [==============================] - 0s 4ms/step - loss: 51.6218 - mean_absolute_error: 51.6218 - val_loss: 59.8165 - val_mean_absolute_error: 59.8165\n",
      "Epoch 78/100\n",
      "33/33 [==============================] - 0s 4ms/step - loss: 49.7292 - mean_absolute_error: 49.7292 - val_loss: 52.9078 - val_mean_absolute_error: 52.9078\n",
      "Epoch 79/100\n",
      "33/33 [==============================] - 0s 4ms/step - loss: 50.3592 - mean_absolute_error: 50.3592 - val_loss: 53.5957 - val_mean_absolute_error: 53.5957\n",
      "Epoch 80/100\n",
      "33/33 [==============================] - 0s 4ms/step - loss: 52.7399 - mean_absolute_error: 52.7399 - val_loss: 53.9197 - val_mean_absolute_error: 53.9197\n",
      "Epoch 81/100\n",
      "33/33 [==============================] - 0s 4ms/step - loss: 48.2330 - mean_absolute_error: 48.2330 - val_loss: 56.1137 - val_mean_absolute_error: 56.1137\n",
      "Epoch 82/100\n",
      "33/33 [==============================] - 0s 4ms/step - loss: 49.3898 - mean_absolute_error: 49.3898 - val_loss: 53.9123 - val_mean_absolute_error: 53.9123\n",
      "Epoch 83/100\n",
      "33/33 [==============================] - 0s 4ms/step - loss: 48.9100 - mean_absolute_error: 48.9100 - val_loss: 53.0607 - val_mean_absolute_error: 53.0607\n",
      "Epoch 84/100\n",
      "33/33 [==============================] - 0s 4ms/step - loss: 51.5380 - mean_absolute_error: 51.5380 - val_loss: 53.3308 - val_mean_absolute_error: 53.3308\n",
      "Epoch 85/100\n",
      "33/33 [==============================] - 0s 4ms/step - loss: 51.4905 - mean_absolute_error: 51.4905 - val_loss: 53.0900 - val_mean_absolute_error: 53.0900\n",
      "Epoch 86/100\n",
      "33/33 [==============================] - 0s 4ms/step - loss: 52.5492 - mean_absolute_error: 52.5492 - val_loss: 61.0222 - val_mean_absolute_error: 61.0222\n",
      "Epoch 87/100\n",
      "33/33 [==============================] - 0s 4ms/step - loss: 50.1655 - mean_absolute_error: 50.1655 - val_loss: 52.7679 - val_mean_absolute_error: 52.7679\n",
      "Epoch 88/100\n",
      "33/33 [==============================] - 0s 4ms/step - loss: 49.0086 - mean_absolute_error: 49.0086 - val_loss: 53.0981 - val_mean_absolute_error: 53.0981\n",
      "Epoch 89/100\n",
      "33/33 [==============================] - 0s 4ms/step - loss: 49.4025 - mean_absolute_error: 49.4025 - val_loss: 58.4490 - val_mean_absolute_error: 58.4490\n",
      "Epoch 90/100\n",
      "33/33 [==============================] - 0s 4ms/step - loss: 50.2462 - mean_absolute_error: 50.2462 - val_loss: 57.3958 - val_mean_absolute_error: 57.3958\n",
      "Epoch 91/100\n",
      "33/33 [==============================] - 0s 4ms/step - loss: 49.2599 - mean_absolute_error: 49.2599 - val_loss: 53.6187 - val_mean_absolute_error: 53.6187\n",
      "Epoch 92/100\n",
      "33/33 [==============================] - 0s 4ms/step - loss: 49.0982 - mean_absolute_error: 49.0982 - val_loss: 59.9228 - val_mean_absolute_error: 59.9228\n",
      "Epoch 93/100\n",
      "33/33 [==============================] - 0s 4ms/step - loss: 49.0403 - mean_absolute_error: 49.0403 - val_loss: 55.2877 - val_mean_absolute_error: 55.2877\n",
      "Epoch 94/100\n",
      "33/33 [==============================] - 0s 4ms/step - loss: 49.5795 - mean_absolute_error: 49.5795 - val_loss: 52.6932 - val_mean_absolute_error: 52.6932\n",
      "Epoch 95/100\n",
      "33/33 [==============================] - 0s 4ms/step - loss: 48.7323 - mean_absolute_error: 48.7323 - val_loss: 55.6372 - val_mean_absolute_error: 55.6372\n",
      "Epoch 96/100\n",
      "33/33 [==============================] - 0s 4ms/step - loss: 49.8754 - mean_absolute_error: 49.8754 - val_loss: 54.2737 - val_mean_absolute_error: 54.2737\n",
      "Epoch 97/100\n",
      "33/33 [==============================] - 0s 4ms/step - loss: 47.6735 - mean_absolute_error: 47.6735 - val_loss: 56.5311 - val_mean_absolute_error: 56.5311\n",
      "Epoch 98/100\n",
      "33/33 [==============================] - 0s 4ms/step - loss: 48.6691 - mean_absolute_error: 48.6691 - val_loss: 54.7440 - val_mean_absolute_error: 54.7440\n"
     ]
    },
    {
     "name": "stdout",
     "output_type": "stream",
     "text": [
      "Epoch 99/100\n",
      "33/33 [==============================] - 0s 4ms/step - loss: 50.4820 - mean_absolute_error: 50.4820 - val_loss: 56.2508 - val_mean_absolute_error: 56.2508\n",
      "Epoch 100/100\n",
      "33/33 [==============================] - 0s 4ms/step - loss: 52.6304 - mean_absolute_error: 52.6304 - val_loss: 54.4813 - val_mean_absolute_error: 54.4813\n"
     ]
    }
   ],
   "source": [
    "hist = model.fit(X_train,y_train,epochs=100,validation_split=0.33,batch_size=16)"
   ]
  },
  {
   "cell_type": "code",
   "execution_count": 9,
   "metadata": {},
   "outputs": [],
   "source": [
    "pred = model.predict(X_test)"
   ]
  },
  {
   "cell_type": "code",
   "execution_count": 10,
   "metadata": {},
   "outputs": [
    {
     "data": {
      "text/plain": [
       "<matplotlib.axes._subplots.AxesSubplot at 0x7f3c38717a90>"
      ]
     },
     "execution_count": 10,
     "metadata": {},
     "output_type": "execute_result"
    },
    {
     "data": {
      "image/png": "[encoded data removed]",
      "text/plain": [
       "<Figure size 432x288 with 1 Axes>"
      ]
     },
     "metadata": {
      "needs_background": "light"
     },
     "output_type": "display_data"
    }
   ],
   "source": [
    "sns.distplot(y_test-pred)"
   ]
  },
  {
   "cell_type": "code",
   "execution_count": 11,
   "metadata": {},
   "outputs": [
    {
     "data": {
      "text/plain": [
       "<matplotlib.collections.PathCollection at 0x7f3c18361850>"
      ]
     },
     "execution_count": 11,
     "metadata": {},
     "output_type": "execute_result"
    },
    {
     "data": {
      "image/png": "[encoded data removed]",
      "text/plain": [
       "<Figure size 432x288 with 1 Axes>"
      ]
     },
     "metadata": {
      "needs_background": "light"
     },
     "output_type": "display_data"
    }
   ],
   "source": [
    "plt.scatter(y_test,pred)"
   ]
  },
  {
   "cell_type": "code",
   "execution_count": 12,
   "metadata": {},
   "outputs": [
    {
     "name": "stdout",
     "output_type": "stream",
     "text": [
      "MAE: 53.938793614935896\n",
      "MSE: 5657.825951206876\n",
      "RMSE: 75.2185213308988\n"
     ]
    }
   ],
   "source": [
    "print('MAE:', metrics.mean_absolute_error(y_test, pred))\n",
    "print('MSE:', metrics.mean_squared_error(y_test, pred))\n",
    "print('RMSE:', np.sqrt(metrics.mean_squared_error(y_test, pred)))"
   ]
  },
  {
   "cell_type": "code",
   "execution_count": null,
   "metadata": {},
   "outputs": [],
   "source": []
  },
  {
   "cell_type": "code",
   "execution_count": null,
   "metadata": {},
   "outputs": [],
   "source": []
  }
 ],
 "metadata": {
  "kernelspec": {
   "display_name": "Python 3",
   "language": "python",
   "name": "python3"
  },
  "language_info": {
   "codemirror_mode": {
    "name": "ipython",
    "version": 3
   },
   "file_extension": ".py",
   "mimetype": "text/x-python",
   "name": "python",
   "nbconvert_exporter": "python",
   "pygments_lexer": "ipython3",
   "version": "3.7.6"
  }
 },
 "nbformat": 4,
 "nbformat_minor": 4
}
