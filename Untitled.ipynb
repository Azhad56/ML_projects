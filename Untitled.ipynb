{
 "cells": [
  {
   "cell_type": "code",
   "execution_count": null,
   "metadata": {},
   "outputs": [
    {
     "name": "stdout",
     "output_type": "stream",
     "text": [
      "WELCOME TO THE BANK OF OSAID\n"
     ]
    }
   ],
   "source": [
    "print(\"WELCOME TO THE BANK OF OSAID\")\n",
    "chance=3\n",
    "restart='y'\n",
    "balance=80.26\n",
    "deposite_money=0\n",
    "withdrawl=0\n",
    "while chance >=0:\n",
    "    pin=int(input(\"please input 4 digit pin:\"))\n",
    "    if pin==(1234):\n",
    "        print('you have input the code correctly\\n')\n",
    "        while restart not in ('n','N','NO','no'):\n",
    "            print(\"press 1 for balance inquiry \\n\")\n",
    "            print(\"press 2 for deposie money\\n\")\n",
    "            print(\"press 3 for withdrawl money \\n\")\n",
    "            option=int(input(\"what would you like to choose\"))\n",
    "        if option==1:\n",
    "            print(\"your current balance is\",balance, \"\\n\")\n",
    "            restart=input(\"do you want to go to main menu\")\n",
    "            if restart in ('n','NO','No','no'):\n",
    "                print(\"thanks for your visit\\n\")\n",
    "                print(\"please collect your card\\n\")\n",
    "                break\n",
    "            else:\n",
    "                restart='y'\n",
    "        elif(option==2):\n",
    "            deposite_money=float(input(\"write the amount that you want to deposite:\\n\"))\n",
    "            if deposite_money not in(10,20,30,40,50,60,70,80,90):\n",
    "                print(\"try to deposite correct amount of money\\n\")\n",
    "            else:\n",
    "                print(\"your updated balace is =\" ,balance+deposite_money,\"\\n\")\n",
    "                restart=input(\"do you wnt to go back to main menu?\\n\")\n",
    "                if restart in ('n' ,\"no\",'NO','No'):\n",
    "                    print(\"thanks for your visit\\n\")\n",
    "                    print(\"please collect your card\\n\")\n",
    "                    break\n",
    "                else:\n",
    "                    restart='y'\n",
    "        elif(option==3):\n",
    "            withdrawl=float(input(\"write the money that you want to withdraw\\n\"))\n",
    "            if withdrawl not in (10,20,30,40,50,60,70,80):\n",
    "                print(\"write proper amount\\n\")\n",
    "            elif withdrawl>balance:\n",
    "                print(\"ITNA PAISA TERE BANK ME NAHI HAI\\n\")\n",
    "            else:\n",
    "                print(\"you have\"+\" \"+str(balance-withdrawl)+\" \"+\"left in your acc\\n\")\n",
    "                restart=input(\"do u wnna go to main menu?\\n\")\n",
    "                if restart in ('n','no','NO','No'):\n",
    "                    print(\"thanks for visiting \\n\")\n",
    "                else:\n",
    "                  restart='y'\n",
    "    else:\n",
    "        print(\"incorrect pin\")\n",
    "        chance=chance-1\n",
    "        if chance==0:\n",
    "            print(\"go home i think you are using stolen card\\n\")\n",
    "            break"
   ]
  },
  {
   "cell_type": "code",
   "execution_count": null,
   "metadata": {},
   "outputs": [],
   "source": []
  }
 ],
 "metadata": {
  "kernelspec": {
   "display_name": "Python 3",
   "language": "python",
   "name": "python3"
  },
  "language_info": {
   "codemirror_mode": {
    "name": "ipython",
    "version": 3
   },
   "file_extension": ".py",
   "mimetype": "text/x-python",
   "name": "python",
   "nbconvert_exporter": "python",
   "pygments_lexer": "ipython3",
   "version": "3.7.6"
  }
 },
 "nbformat": 4,
 "nbformat_minor": 4
}
